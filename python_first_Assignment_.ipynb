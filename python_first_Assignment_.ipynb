{
  "nbformat": 4,
  "nbformat_minor": 0,
  "metadata": {
    "colab": {
      "provenance": []
    },
    "kernelspec": {
      "name": "python3",
      "display_name": "Python 3"
    },
    "language_info": {
      "name": "python"
    }
  },
  "cells": [
    {
      "cell_type": "markdown",
      "source": [
        "\n",
        "# **Key Features of Python**\n",
        "\n"
      ],
      "metadata": {
        "id": "S8BC34eoVdEr"
      }
    },
    {
      "cell_type": "code",
      "source": [
        "#Key features of Python\n",
        "# Simple and Easy to Learn\n",
        "# Interpreted Language\n",
        "#Dynamically Typed\n",
        "# Extensive Libraries and Frameworks\n",
        "# Cross-Platform Compatibility\n",
        "# Object-Oriented"
      ],
      "metadata": {
        "id": "PK-YAWAzVsL6"
      },
      "execution_count": 2,
      "outputs": []
    },
    {
      "cell_type": "code",
      "source": [],
      "metadata": {
        "id": "WtOhX-e2WO0D"
      },
      "execution_count": null,
      "outputs": []
    },
    {
      "cell_type": "markdown",
      "source": [
        "# **Role of Predefined Keywords in Python**"
      ],
      "metadata": {
        "id": "0mh_B-MBWPSW"
      }
    },
    {
      "cell_type": "code",
      "source": [
        "# 'if' is a keyword used to create a conditional statement\n",
        "N=int(input(\"enter number\"))\n",
        "if N>=0:\n",
        "    print(\"odd\")\n",
        "else:  # 'else' is a keyword used to provide an alternative condition\n",
        "    print(\"EVEN\")"
      ],
      "metadata": {
        "colab": {
          "base_uri": "https://localhost:8080/"
        },
        "id": "sV4ZZoBgWRZK",
        "outputId": "5c9ae40f-4e2b-4ec1-9c64-c4411df8d3de"
      },
      "execution_count": 5,
      "outputs": [
        {
          "output_type": "stream",
          "name": "stdout",
          "text": [
            "enter number1\n",
            "odd\n"
          ]
        }
      ]
    },
    {
      "cell_type": "code",
      "source": [],
      "metadata": {
        "id": "ykKPV34jWtJD"
      },
      "execution_count": null,
      "outputs": []
    },
    {
      "cell_type": "markdown",
      "source": [
        "# **Mutable vs Immutable Objects in Python**"
      ],
      "metadata": {
        "id": "nJPEiMOFWtwb"
      }
    },
    {
      "cell_type": "code",
      "source": [
        "# List is mutable, so we can change its elements\n",
        "my_list = [1, 2, 3]\n",
        "my_list[0] = 10\n",
        "print(my_list)\n"
      ],
      "metadata": {
        "colab": {
          "base_uri": "https://localhost:8080/"
        },
        "id": "Fr79HtfpWwYa",
        "outputId": "08c649b2-e5e4-4188-f3ee-6f82e2bff039"
      },
      "execution_count": 6,
      "outputs": [
        {
          "output_type": "stream",
          "name": "stdout",
          "text": [
            "[10, 2, 3]\n"
          ]
        }
      ]
    },
    {
      "cell_type": "code",
      "source": [
        "#immutable, so we can  not change its elements\n",
        "my_tuple = {1, 2, 3}\n",
        "my_tuple(0) = 10\n",
        "print(my_tuple)"
      ],
      "metadata": {
        "colab": {
          "base_uri": "https://localhost:8080/",
          "height": 106
        },
        "id": "I7niAAdrW7sP",
        "outputId": "32c2f844-e93c-4768-bd0c-9e659fba3e3c"
      },
      "execution_count": 7,
      "outputs": [
        {
          "output_type": "error",
          "ename": "SyntaxError",
          "evalue": "cannot assign to function call here. Maybe you meant '==' instead of '='? (<ipython-input-7-ed591343e738>, line 3)",
          "traceback": [
            "\u001b[0;36m  File \u001b[0;32m\"<ipython-input-7-ed591343e738>\"\u001b[0;36m, line \u001b[0;32m3\u001b[0m\n\u001b[0;31m    my_tuple(0) = 10\u001b[0m\n\u001b[0m    ^\u001b[0m\n\u001b[0;31mSyntaxError\u001b[0m\u001b[0;31m:\u001b[0m cannot assign to function call here. Maybe you meant '==' instead of '='?\n"
          ]
        }
      ]
    },
    {
      "cell_type": "markdown",
      "source": [
        "# **Different Types of Operators in Python**"
      ],
      "metadata": {
        "id": "r2iT2cn7XBvQ"
      }
    },
    {
      "cell_type": "code",
      "source": [
        "a = 10\n",
        "b = 5\n",
        "print(a + b)\n",
        "print(a > b)\n",
        "print(a > 5 and b < 10)"
      ],
      "metadata": {
        "colab": {
          "base_uri": "https://localhost:8080/"
        },
        "id": "W5Az6M_8XEea",
        "outputId": "e50dfd8c-9e8c-47c5-9307-050ac8494249"
      },
      "execution_count": 8,
      "outputs": [
        {
          "output_type": "stream",
          "name": "stdout",
          "text": [
            "15\n",
            "True\n",
            "True\n"
          ]
        }
      ]
    },
    {
      "cell_type": "markdown",
      "source": [
        "# **Type Casting in Python**"
      ],
      "metadata": {
        "id": "zmdZzV7mXefX"
      }
    },
    {
      "cell_type": "code",
      "source": [
        "x = 5\n",
        "y = float(x)\n",
        "print(y)\n",
        "\n",
        "z = \"100\"\n",
        "num = int(z)\n",
        "print(num)"
      ],
      "metadata": {
        "colab": {
          "base_uri": "https://localhost:8080/"
        },
        "id": "pf9LzRDuXgWq",
        "outputId": "1014d4df-a047-4c2e-da7a-f376a7070f06"
      },
      "execution_count": 10,
      "outputs": [
        {
          "output_type": "stream",
          "name": "stdout",
          "text": [
            "5.0\n",
            "100\n"
          ]
        }
      ]
    },
    {
      "cell_type": "markdown",
      "source": [
        "# **Conditional Statements in Python**"
      ],
      "metadata": {
        "id": "eOlKthvzXqAl"
      }
    },
    {
      "cell_type": "code",
      "source": [
        "num = 10\n",
        "if num > 0:\n",
        "    print(\"Positive number\")\n",
        "elif num == 0:\n",
        "    print(\"Zero\")\n",
        "else:\n",
        "    print(\"Negative number\")"
      ],
      "metadata": {
        "colab": {
          "base_uri": "https://localhost:8080/"
        },
        "id": "_fhwfpcDXsY6",
        "outputId": "a2858f98-5953-41fd-8d5b-86eef1da2deb"
      },
      "execution_count": 11,
      "outputs": [
        {
          "output_type": "stream",
          "name": "stdout",
          "text": [
            "Positive number\n"
          ]
        }
      ]
    },
    {
      "cell_type": "markdown",
      "source": [
        "# **Different Types of Loops in Python**"
      ],
      "metadata": {
        "id": "RxqOfqc_X4LR"
      }
    },
    {
      "cell_type": "code",
      "source": [
        "# 'for' loop example\n",
        "fruits = [\"apple\", \"banana\", \"cherry\"]\n",
        "for fruit in fruits:\n",
        "    print(fruit)\n",
        "\n",
        "# 'while' loop example\n",
        "count = 1\n",
        "while count <= 3:\n",
        "    print(\"Count is:\", count)\n",
        "    count += 1"
      ],
      "metadata": {
        "colab": {
          "base_uri": "https://localhost:8080/"
        },
        "id": "8YcCkrYXX6Nb",
        "outputId": "4b755cdc-9400-4dbc-9b87-9e151cb915c4"
      },
      "execution_count": 12,
      "outputs": [
        {
          "output_type": "stream",
          "name": "stdout",
          "text": [
            "apple\n",
            "banana\n",
            "cherry\n",
            "Count is: 1\n",
            "Count is: 2\n",
            "Count is: 3\n"
          ]
        }
      ]
    }
  ]
}